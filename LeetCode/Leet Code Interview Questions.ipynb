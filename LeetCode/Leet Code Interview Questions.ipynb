{
 "cells": [
  {
   "cell_type": "markdown",
   "id": "8a1206f5-5b90-40b6-8bc8-64df01034200",
   "metadata": {},
   "source": [
    "# Easy "
   ]
  },
  {
   "cell_type": "markdown",
   "id": "a5e8627a-9e37-47d1-a301-42bebf30238f",
   "metadata": {},
   "source": [
    "#### 1. question url: https://leetcode.com/problems/two-sum/description/"
   ]
  },
  {
   "cell_type": "code",
   "execution_count": 2,
   "id": "da329aca-c8d4-4aaa-8520-41dc9e3c33ed",
   "metadata": {},
   "outputs": [],
   "source": [
    "nums = [2,7,11,15]\n",
    "target = 9"
   ]
  },
  {
   "cell_type": "code",
   "execution_count": 8,
   "id": "cc67ea0e-5fcd-4cc8-9e1c-a6116466b7c1",
   "metadata": {},
   "outputs": [
    {
     "name": "stdout",
     "output_type": "stream",
     "text": [
      "[0, 1]\n"
     ]
    }
   ],
   "source": [
    "for index, item in enumerate(nums):\n",
    "    another_num = abs(target-item)\n",
    "    if another_num in nums[index+1:]:\n",
    "        print([nums.index(item), nums.index(another_num)])"
   ]
  },
  {
   "cell_type": "code",
   "execution_count": null,
   "id": "b4d80f99-df38-4f72-a88f-cae6ffe63fb2",
   "metadata": {},
   "outputs": [],
   "source": []
  }
 ],
 "metadata": {
  "kernelspec": {
   "display_name": "Python 3 (ipykernel)",
   "language": "python",
   "name": "python3"
  },
  "language_info": {
   "codemirror_mode": {
    "name": "ipython",
    "version": 3
   },
   "file_extension": ".py",
   "mimetype": "text/x-python",
   "name": "python",
   "nbconvert_exporter": "python",
   "pygments_lexer": "ipython3",
   "version": "3.12.1"
  }
 },
 "nbformat": 4,
 "nbformat_minor": 5
}
