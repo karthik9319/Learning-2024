{
 "cells": [
  {
   "cell_type": "markdown",
   "id": "b2d80fb1-a3c0-4397-911b-0ee0fea958ca",
   "metadata": {},
   "source": [
    "# Date - 05-01-2024"
   ]
  },
  {
   "cell_type": "code",
   "execution_count": 5,
   "id": "3388254d-1618-42d8-b5c9-7a8f098254c7",
   "metadata": {},
   "outputs": [],
   "source": [
    "## Practice arrays - https://github.com/codebasics/data-structures-algorithms-python/blob/master/data_structures/2_Arrays/2_arrays_exercise.md"
   ]
  },
  {
   "cell_type": "code",
   "execution_count": 1,
   "id": "926f7681-f29a-4361-b787-f0fd49650fad",
   "metadata": {},
   "outputs": [],
   "source": [
    "expense_list = [\n",
    "    [\"January\", 2200],\n",
    "    [\"February\", 2350],\n",
    "    [\"March\", 2600],\n",
    "    [\"April\", 2130],\n",
    "    [\"May\", 2190]\n",
    "]"
   ]
  },
  {
   "cell_type": "code",
   "execution_count": 3,
   "id": "f692235e-02e7-4bf1-b282-c8bce2d68844",
   "metadata": {},
   "outputs": [
    {
     "name": "stdout",
     "output_type": "stream",
     "text": [
      "150\n"
     ]
    }
   ],
   "source": [
    "## 1. In Feb, how many dollars you spent extra compare to January??\n",
    "\n",
    "jan_spent = expense_list[0][1]\n",
    "feb_spent = expense_list[1][1]\n",
    "\n",
    "money_spent_extra = feb_spent - jan_spent\n",
    "\n",
    "print(money_spent_extra)"
   ]
  },
  {
   "cell_type": "code",
   "execution_count": 6,
   "id": "aaa8a093-d7f4-49aa-9c6b-19316dc2b34a",
   "metadata": {},
   "outputs": [
    {
     "name": "stdout",
     "output_type": "stream",
     "text": [
      "7150\n"
     ]
    }
   ],
   "source": [
    "## 2. Find out your total expense in first quarter (first three months) of the year.\n",
    "\n",
    "jan_spent = expense_list[0][1]\n",
    "feb_spent = expense_list[1][1]\n",
    "mar_spent = expense_list[2][1]\n",
    "\n",
    "total_expense = jan_spent + feb_spent + mar_spent\n",
    "\n",
    "print(total_expense)"
   ]
  },
  {
   "cell_type": "code",
   "execution_count": 7,
   "id": "796a2d4a-11b8-4bbb-9ffd-0bd594f5533e",
   "metadata": {},
   "outputs": [
    {
     "name": "stdout",
     "output_type": "stream",
     "text": [
      "no match found\n",
      "no match found\n",
      "no match found\n",
      "no match found\n",
      "no match found\n"
     ]
    }
   ],
   "source": [
    "## 3. Find out if you spent exactly 2000 dollars in any month\n",
    "\n",
    "for item in expense_list:\n",
    "    if item[1] == 2000:\n",
    "        print(item[0])\n",
    "    else:\n",
    "        print(\"no match found\")"
   ]
  },
  {
   "cell_type": "code",
   "execution_count": 9,
   "id": "5d9e2a0f-a631-4087-9175-6000bbe30ae0",
   "metadata": {},
   "outputs": [],
   "source": [
    "## 4. June month just finished and your expense is 1980 dollar. Add this item to our monthly expense list\n",
    "\n",
    "expense_list.append([\"June\", 1980])"
   ]
  },
  {
   "cell_type": "code",
   "execution_count": 12,
   "id": "27ae3856-d895-42ca-bcda-508e4cd00d77",
   "metadata": {},
   "outputs": [
    {
     "name": "stdout",
     "output_type": "stream",
     "text": [
      "[['January', 2200], ['February', 2350], ['March', 2600], ['April', 1930], ['May', 2190], ['June', 1980]]\n"
     ]
    }
   ],
   "source": [
    "## 5. You returned an item that you bought in a month of April and\n",
    "## got a refund of 200$. Make a correction to your monthly expense list\n",
    "## based on this\n",
    "\n",
    "correct_amount = expense_list[3][1] - 200\n",
    "\n",
    "expense_list[3][1] = correct_amount\n",
    "\n",
    "print(expense_list)"
   ]
  },
  {
   "cell_type": "code",
   "execution_count": 35,
   "id": "e9d3dda7-bb7d-4fcc-af9b-9423d4b743ca",
   "metadata": {},
   "outputs": [],
   "source": [
    "heros=['spider man','thor','hulk','iron man','captain america']"
   ]
  },
  {
   "cell_type": "code",
   "execution_count": 36,
   "id": "5fadf710-c9c9-4c44-9b92-9ca65c3e8fc9",
   "metadata": {},
   "outputs": [
    {
     "data": {
      "text/plain": [
       "5"
      ]
     },
     "execution_count": 36,
     "metadata": {},
     "output_type": "execute_result"
    }
   ],
   "source": [
    "## 1. Length of the list\n",
    "\n",
    "len(heros)"
   ]
  },
  {
   "cell_type": "code",
   "execution_count": 37,
   "id": "7805a653-a261-4782-a750-3f3fbf4978b9",
   "metadata": {},
   "outputs": [],
   "source": [
    "## 2. Add 'black panther' at the end of this list\n",
    "\n",
    "heros.append('black panther')"
   ]
  },
  {
   "cell_type": "code",
   "execution_count": 38,
   "id": "18834b32-5df7-4397-9b88-619c5b7cef98",
   "metadata": {},
   "outputs": [],
   "source": [
    "## 3. You realize that you need to add 'black panther' after 'hulk',\n",
    "##   so remove it from the list first and then add it after 'hulk'\n",
    "\n",
    "heros.remove('black panther')\n",
    "\n",
    "heros.insert(3, 'black panther')"
   ]
  },
  {
   "cell_type": "code",
   "execution_count": 39,
   "id": "0caae292-1b79-470b-baed-d7f003739c0a",
   "metadata": {},
   "outputs": [],
   "source": [
    "## 4. Now you don't like thor and hulk because they get angry easily :)\n",
    "##   So you want to remove thor and hulk from list and replace them with doctor strange (because he is cool).\n",
    "##   Do that with one line of code.\n",
    "\n",
    "# heros.remove(\"thor\")\n",
    "# heros.remove(\"hulk\")\n",
    "\n",
    "# heros.insert(1, \"doctor strange\")\n",
    "\n",
    "\n",
    "heros[1:3]=['doctor strange']"
   ]
  },
  {
   "cell_type": "code",
   "execution_count": 40,
   "id": "57d4a42f-cdfd-4fa0-b2bf-5aef2df2bc33",
   "metadata": {},
   "outputs": [
    {
     "name": "stdout",
     "output_type": "stream",
     "text": [
      "['black panther', 'captain america', 'doctor strange', 'iron man', 'spider man']\n"
     ]
    }
   ],
   "source": [
    "## 5. Sort the heros list in alphabetical order (Hint. Use dir() functions to list down all functions available in list)\n",
    "\n",
    "dir(list)\n",
    "\n",
    "heros.sort()\n",
    "\n",
    "print(heros)"
   ]
  },
  {
   "cell_type": "code",
   "execution_count": 4,
   "id": "fc834392-44f7-451b-9eb3-ffb75c02fde5",
   "metadata": {},
   "outputs": [
    {
     "name": "stdin",
     "output_type": "stream",
     "text": [
      "enter number  12\n"
     ]
    },
    {
     "name": "stdout",
     "output_type": "stream",
     "text": [
      "[1, 3, 5, 7, 9, 11]\n"
     ]
    }
   ],
   "source": [
    "## Create a list of all odd numbers between 1 and a max number. Max number is something you need to take from a user using input() function\n",
    "\n",
    "user_input = input('enter number ')\n",
    "\n",
    "odd_numbers = []\n",
    "\n",
    "for item in range(0, int(user_input)):\n",
    "    if item %2 == 1:\n",
    "        odd_numbers.append(item)\n",
    "\n",
    "\n",
    "print(odd_numbers)"
   ]
  },
  {
   "cell_type": "code",
   "execution_count": null,
   "id": "b6e847fd-8783-4933-9565-74923ef554b7",
   "metadata": {},
   "outputs": [],
   "source": []
  }
 ],
 "metadata": {
  "kernelspec": {
   "display_name": "Python 3 (ipykernel)",
   "language": "python",
   "name": "python3"
  },
  "language_info": {
   "codemirror_mode": {
    "name": "ipython",
    "version": 3
   },
   "file_extension": ".py",
   "mimetype": "text/x-python",
   "name": "python",
   "nbconvert_exporter": "python",
   "pygments_lexer": "ipython3",
   "version": "3.12.1"
  }
 },
 "nbformat": 4,
 "nbformat_minor": 5
}
